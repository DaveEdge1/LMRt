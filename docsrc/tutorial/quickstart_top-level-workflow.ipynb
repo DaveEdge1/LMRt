{
 "cells": [
  {
   "cell_type": "markdown",
   "metadata": {},
   "source": [
    "# Top-level workflow in LMRt"
   ]
  },
  {
   "cell_type": "markdown",
   "metadata": {},
   "source": [
    "**Expected time to run through: 3 mins**\n",
    "\n",
    "\n",
    "In this tutorial, we demonstrate how to reproduce our 1st LMR reconstruction with the top-level workflow.\n",
    "This top-level workflow is essentailly a shortcut of the `job.prepare()` and `job.run()` we have seen in the previous notebook on the high-level workflow.\n",
    "With the high-level workflow, users still have the flexibilty to perform intermediate steps, while with the top-level workflow, users can only execute the one-line command to reproduce an experiment totally based on the given configuration YAML file, without any chance to do any intermediate modification of the experiment.\n",
    "\n",
    "We will first generate a configuration YAML file with a different `job_dirpath` so as to store our results to a different location, and then we use the `job.run_cfg()` method to reproduce the reconstruction directly!"
   ]
  },
  {
   "cell_type": "markdown",
   "metadata": {},
   "source": [
    "## Test data preparation\n",
    "\n",
    "Again, if you haven't done yet, please prepare test data following the steps:\n",
    "1. Download the test case named \"PAGES2k_CCSM4_GISTEMP\" with this [link](https://drive.google.com/drive/folders/1UGn-LNd_tGSjPUKa52E6ffEM-ms2VD-N?usp=sharing).\n",
    "2. Create a directory named \"testcases\" in the same directory of this notebook.\n",
    "3. Put the unzipped direcotry \"PAGES2k_CCSM4_GISTEMP\" into \"testcases\".\n",
    "\n",
    "Below, we first load some useful packages, including our `LMRt`."
   ]
  },
  {
   "cell_type": "code",
   "execution_count": 1,
   "metadata": {},
   "outputs": [],
   "source": [
    "%load_ext autoreload\n",
    "%autoreload 2\n",
    "\n",
    "import LMRt\n",
    "import os\n",
    "import numpy as np\n",
    "import pandas as pd\n",
    "import xarray as xr"
   ]
  },
  {
   "cell_type": "markdown",
   "metadata": {},
   "source": [
    "## Run!"
   ]
  },
  {
   "cell_type": "markdown",
   "metadata": {},
   "source": [
    "The top-level workflow allows the users to conduct the reconstruction purely based on a configuration YAML file.\n",
    "However, it still allows runtime modification of the `job_dirpath` and `recon_seeds` in the call for flexibility."
   ]
  },
  {
   "cell_type": "code",
   "execution_count": 2,
   "metadata": {},
   "outputs": [
    {
     "name": "stdout",
     "output_type": "stream",
     "text": [
      "\u001b[1m\u001b[36mLMRt: job.load_configs() >>> loading reconstruction configurations from: ./testcases/PAGES2k_CCSM4_GISTEMP/configs.yml\u001b[0m\n",
      "\u001b[1m\u001b[32mLMRt: job.load_configs() >>> job.configs created\u001b[0m\n",
      "\u001b[1m\u001b[36mLMRt: job.load_configs() >>> job.configs[\"job_dirpath\"] = /Users/fzhu/Github/LMRt/docsrc/tutorial/testcases/PAGES2k_CCSM4_GISTEMP/recon\u001b[0m\n",
      "\u001b[1m\u001b[32mLMRt: job.load_configs() >>> /Users/fzhu/Github/LMRt/docsrc/tutorial/testcases/PAGES2k_CCSM4_GISTEMP/recon created\u001b[0m\n",
      "{'anom_period': [1951, 1980],\n",
      " 'job_dirpath': '/Users/fzhu/Github/LMRt/docsrc/tutorial/testcases/PAGES2k_CCSM4_GISTEMP/recon',\n",
      " 'job_id': 'LMRt_quickstart',\n",
      " 'obs_path': {'tas': './data/obs/gistemp1200_ERSSTv4.nc'},\n",
      " 'obs_varname': {'tas': 'tempanomaly'},\n",
      " 'prior_path': {'tas': './data/prior/b.e11.BLMTRC5CN.f19_g16.001.cam.h0.TREFHT.085001-184912.nc'},\n",
      " 'prior_regrid_ntrunc': 42,\n",
      " 'prior_season': [1, 2, 3, 4, 5, 6, 7, 8, 9, 10, 11, 12],\n",
      " 'prior_varname': {'tas': 'TREFHT'},\n",
      " 'proxy_frac': 0.75,\n",
      " 'proxydb_path': './data/proxy/pages2k_dataset.pkl',\n",
      " 'psm_calib_period': [1850, 2015],\n",
      " 'ptype_psm': {'coral.SrCa': 'linear',\n",
      "               'coral.calc': 'linear',\n",
      "               'coral.d18O': 'linear'},\n",
      " 'ptype_season': {'coral.SrCa': [1, 2, 3, 4, 5, 6, 7, 8, 9, 10, 11, 12],\n",
      "                  'coral.calc': [1, 2, 3, 4, 5, 6, 7, 8, 9, 10, 11, 12],\n",
      "                  'coral.d18O': [1, 2, 3, 4, 5, 6, 7, 8, 9, 10, 11, 12]},\n",
      " 'recon_loc_rad': 25000,\n",
      " 'recon_nens': 100,\n",
      " 'recon_period': [0, 2000],\n",
      " 'recon_seeds': [0,\n",
      "                 1,\n",
      "                 2,\n",
      "                 3,\n",
      "                 4,\n",
      "                 5,\n",
      "                 6,\n",
      "                 7,\n",
      "                 8,\n",
      "                 9,\n",
      "                 10,\n",
      "                 11,\n",
      "                 12,\n",
      "                 13,\n",
      "                 14,\n",
      "                 15,\n",
      "                 16,\n",
      "                 17,\n",
      "                 18,\n",
      "                 19],\n",
      " 'recon_timescale': 1,\n",
      " 'recon_vars': 'tas'}\n",
      "\u001b[1m\u001b[36mLMRt: job.load_configs() >>> job.configs[\"job_dirpath\"] = /Users/fzhu/Github/LMRt/docsrc/tutorial/testcases/PAGES2k_CCSM4_GISTEMP/recon_top\u001b[0m\n",
      "\u001b[1m\u001b[32mLMRt: job.load_configs() >>> /Users/fzhu/Github/LMRt/docsrc/tutorial/testcases/PAGES2k_CCSM4_GISTEMP/recon_top created\u001b[0m\n",
      "\u001b[1m\u001b[36mLMRt: job.run() >>> job.configs[\"recon_seeds\"] = [0]\u001b[0m\n",
      "\u001b[1m\u001b[36mLMRt: job.prepare() >>> job.configs[\"job_dirpath\"] = /Users/fzhu/Github/LMRt/docsrc/tutorial/testcases/PAGES2k_CCSM4_GISTEMP/recon_top\u001b[0m\n",
      "\u001b[1m\u001b[36mLMRt: job.load_proxydb() >>> job.configs[\"proxydb_path\"] = /Users/fzhu/Github/LMRt/docsrc/tutorial/testcases/PAGES2k_CCSM4_GISTEMP/data/proxy/pages2k_dataset.pkl\u001b[0m\n",
      "\u001b[1m\u001b[32mLMRt: job.load_proxydb() >>> 692 records loaded\u001b[0m\n",
      "\u001b[1m\u001b[32mLMRt: job.load_proxydb() >>> job.proxydb created\u001b[0m\n",
      "\u001b[1m\u001b[36mLMRt: job.filter_proxydb() >>> job.configs[\"ptype_season\"] = {'coral.d18O': 'linear', 'coral.SrCa': 'linear', 'coral.calc': 'linear'}\u001b[0m\n",
      "\u001b[1m\u001b[36mLMRt: job.filter_proxydb() >>> filtering proxy records according to: ['coral.d18O', 'coral.SrCa', 'coral.calc']\u001b[0m\n",
      "\u001b[1m\u001b[32mLMRt: job.filter_proxydb() >>> 95 records remaining\u001b[0m\n",
      "\u001b[1m\u001b[36mLMRt: job.seasonalize_proxydb() >>> job.configs[\"ptype_season\"] = {'coral.d18O': [1, 2, 3, 4, 5, 6, 7, 8, 9, 10, 11, 12], 'coral.SrCa': [1, 2, 3, 4, 5, 6, 7, 8, 9, 10, 11, 12], 'coral.calc': [1, 2, 3, 4, 5, 6, 7, 8, 9, 10, 11, 12]}\u001b[0m\n",
      "\u001b[1m\u001b[36mLMRt: job.seasonalize_proxydb() >>> seasonalizing proxy records according to: {'coral.d18O': [1, 2, 3, 4, 5, 6, 7, 8, 9, 10, 11, 12], 'coral.SrCa': [1, 2, 3, 4, 5, 6, 7, 8, 9, 10, 11, 12], 'coral.calc': [1, 2, 3, 4, 5, 6, 7, 8, 9, 10, 11, 12]}\u001b[0m\n",
      "\u001b[1m\u001b[32mLMRt: job.seasonalize_proxydb() >>> 95 records remaining\u001b[0m\n",
      "\u001b[1m\u001b[32mLMRt: job.seasonalize_proxydb() >>> job.proxydb updated\u001b[0m\n",
      "\u001b[1m\u001b[36mLMRt: job.load_prior() >>> job.configs[\"prior_path\"] = {'tas': '/Users/fzhu/Github/LMRt/docsrc/tutorial/testcases/PAGES2k_CCSM4_GISTEMP/data/prior/b.e11.BLMTRC5CN.f19_g16.001.cam.h0.TREFHT.085001-184912.nc'}\u001b[0m\n",
      "\u001b[1m\u001b[36mLMRt: job.load_prior() >>> job.configs[\"anom_period\"] = [1951, 1980]\u001b[0m\n",
      "\u001b[1m\u001b[36mLMRt: job.load_prior() >>> loading model prior fields from: {'tas': '/Users/fzhu/Github/LMRt/docsrc/tutorial/testcases/PAGES2k_CCSM4_GISTEMP/data/prior/b.e11.BLMTRC5CN.f19_g16.001.cam.h0.TREFHT.085001-184912.nc'}\u001b[0m\n",
      "Time axis not overlap with the reference period [1951, 1980]; use its own time period as reference [850.08, 1850.00].\n",
      "\u001b[1m\u001b[30mLMRt: job.load_prior() >>> raw prior\u001b[0m\n",
      "Dataset Overview\n",
      "-----------------------\n",
      "\n",
      "     Name:  tas\n",
      "   Source:  /Users/fzhu/Github/LMRt/docsrc/tutorial/testcases/PAGES2k_CCSM4_GISTEMP/data/prior/b.e11.BLMTRC5CN.f19_g16.001.cam.h0.TREFHT.085001-184912.nc\n",
      "    Shape:  time:12000, lat:96, lon:144\n",
      "\u001b[1m\u001b[32mLMRt: job.load_prior() >>> job.prior created\u001b[0m\n",
      "\u001b[1m\u001b[36mLMRt: job.load_obs() >>> job.configs[\"anom_period\"] = [1951, 1980]\u001b[0m\n",
      "\u001b[1m\u001b[36mLMRt: job.load_obs() >>> loading instrumental observation fields from: {'tas': '/Users/fzhu/Github/LMRt/docsrc/tutorial/testcases/PAGES2k_CCSM4_GISTEMP/data/obs/gistemp1200_ERSSTv4.nc'}\u001b[0m\n",
      "\u001b[1m\u001b[32mLMRt: job.load_obs() >>> job.obs created\u001b[0m\n",
      "\u001b[1m\u001b[36mLMRt: job.calibrate_psm() >>> job.configs[\"precalc\"][\"seasonalized_prior_path\"] = /Users/fzhu/Github/LMRt/docsrc/tutorial/testcases/PAGES2k_CCSM4_GISTEMP/recon_top/seasonalized_prior.pkl\u001b[0m\n",
      "\u001b[1m\u001b[36mLMRt: job.calibrate_psm() >>> job.configs[\"precalc\"][\"seasonalized_obs_path\"] = /Users/fzhu/Github/LMRt/docsrc/tutorial/testcases/PAGES2k_CCSM4_GISTEMP/recon_top/seasonalized_obs.pkl\u001b[0m\n",
      "\u001b[1m\u001b[36mLMRt: job.calibrate_psm() >>> job.configs[\"precalc\"][\"prior_loc_path\"] = /Users/fzhu/Github/LMRt/docsrc/tutorial/testcases/PAGES2k_CCSM4_GISTEMP/recon_top/prior_loc.pkl\u001b[0m\n",
      "\u001b[1m\u001b[36mLMRt: job.calibrate_psm() >>> job.configs[\"precalc\"][\"obs_loc_path\"] = /Users/fzhu/Github/LMRt/docsrc/tutorial/testcases/PAGES2k_CCSM4_GISTEMP/recon_top/obs_loc.pkl\u001b[0m\n",
      "\u001b[1m\u001b[36mLMRt: job.calibrate_psm() >>> job.configs[\"precalc\"][\"calibed_psm_path\"] = /Users/fzhu/Github/LMRt/docsrc/tutorial/testcases/PAGES2k_CCSM4_GISTEMP/recon_top/calibed_psm.pkl\u001b[0m\n",
      "\u001b[1m\u001b[36mLMRt: job.seasonalize_ds_for_psm() >>> job.configs[\"ptype_season\"] = {'coral.d18O': [1, 2, 3, 4, 5, 6, 7, 8, 9, 10, 11, 12], 'coral.SrCa': [1, 2, 3, 4, 5, 6, 7, 8, 9, 10, 11, 12], 'coral.calc': [1, 2, 3, 4, 5, 6, 7, 8, 9, 10, 11, 12]}\u001b[0m\n",
      "\u001b[1m\u001b[36mLMRt: job.seasonalize_ds_for_psm() >>> Seasonalizing variables from prior with season: [1, 2, 3, 4, 5, 6, 7, 8, 9, 10, 11, 12]\u001b[0m\n"
     ]
    },
    {
     "name": "stderr",
     "output_type": "stream",
     "text": [
      "Searching nearest location:  12%|█▏        | 11/95 [00:00<00:00, 104.80it/s]"
     ]
    },
    {
     "name": "stdout",
     "output_type": "stream",
     "text": [
      "\u001b[1m\u001b[32mLMRt: job.seasonalize_ds_for_psm() >>> job.seasonalized_prior created\u001b[0m\n"
     ]
    },
    {
     "name": "stderr",
     "output_type": "stream",
     "text": [
      "Searching nearest location: 100%|██████████| 95/95 [00:00<00:00, 110.35it/s]\n",
      "/Users/fzhu/Github/LMRt/LMRt/utils.py:243: RuntimeWarning: Mean of empty slice\n",
      "  tmp = np.nanmean(var[inds, ...], axis=0)\n"
     ]
    },
    {
     "name": "stdout",
     "output_type": "stream",
     "text": [
      "\u001b[1m\u001b[32mLMRt: job.proxydb.find_nearest_loc() >>> job.proxydb.prior_lat_idx & job.proxydb.prior_lon_idx created\u001b[0m\n",
      "\u001b[1m\u001b[32mLMRt: job.proxydb.get_var_from_ds() >>> job.proxydb.records[pid].prior_time & job.proxydb.records[pid].prior_value created\u001b[0m\n",
      "\u001b[1m\u001b[36mLMRt: job.seasonalize_ds_for_psm() >>> job.configs[\"ptype_season\"] = {'coral.d18O': [1, 2, 3, 4, 5, 6, 7, 8, 9, 10, 11, 12], 'coral.SrCa': [1, 2, 3, 4, 5, 6, 7, 8, 9, 10, 11, 12], 'coral.calc': [1, 2, 3, 4, 5, 6, 7, 8, 9, 10, 11, 12]}\u001b[0m\n",
      "\u001b[1m\u001b[36mLMRt: job.seasonalize_ds_for_psm() >>> Seasonalizing variables from obs with season: [1, 2, 3, 4, 5, 6, 7, 8, 9, 10, 11, 12]\u001b[0m\n"
     ]
    },
    {
     "name": "stderr",
     "output_type": "stream",
     "text": [
      "Searching nearest location:  11%|█         | 10/95 [00:00<00:00, 98.52it/s]"
     ]
    },
    {
     "name": "stdout",
     "output_type": "stream",
     "text": [
      "\u001b[1m\u001b[32mLMRt: job.seasonalize_ds_for_psm() >>> job.seasonalized_obs created\u001b[0m\n"
     ]
    },
    {
     "name": "stderr",
     "output_type": "stream",
     "text": [
      "Searching nearest location: 100%|██████████| 95/95 [00:00<00:00, 99.58it/s] \n",
      "Calibrating PSM:   9%|▉         | 9/95 [00:00<00:00, 86.26it/s]"
     ]
    },
    {
     "name": "stdout",
     "output_type": "stream",
     "text": [
      "\u001b[1m\u001b[32mLMRt: job.proxydb.find_nearest_loc() >>> job.proxydb.obs_lat_idx & job.proxydb.obs_lon_idx created\u001b[0m\n",
      "\u001b[1m\u001b[32mLMRt: job.proxydb.get_var_from_ds() >>> job.proxydb.records[pid].obs_time & job.proxydb.records[pid].obs_value created\u001b[0m\n",
      "\u001b[1m\u001b[32mLMRt: job.proxydb.init_psm() >>> job.proxydb.records[pid].psm initialized\u001b[0m\n",
      "\u001b[1m\u001b[36mLMRt: job.calibrate_psm() >>> job.configs[\"psm_calib_period\"] = [1850, 2015]\u001b[0m\n",
      "\u001b[1m\u001b[36mLMRt: job.calibrate_psm() >>> PSM calibration period: [1850, 2015]\u001b[0m\n"
     ]
    },
    {
     "name": "stderr",
     "output_type": "stream",
     "text": [
      "Calibrating PSM:  68%|██████▊   | 65/95 [00:00<00:00, 86.59it/s]"
     ]
    },
    {
     "name": "stdout",
     "output_type": "stream",
     "text": [
      "The number of overlapped data points is 0 < 25. Skipping ...\n"
     ]
    },
    {
     "name": "stderr",
     "output_type": "stream",
     "text": [
      "Calibrating PSM: 100%|██████████| 95/95 [00:01<00:00, 86.98it/s]\n",
      "Forwarding PSM: 100%|██████████| 95/95 [00:00<00:00, 1519.37it/s]\n"
     ]
    },
    {
     "name": "stdout",
     "output_type": "stream",
     "text": [
      "\u001b[1m\u001b[32mLMRt: job.proxydb.calib_psm() >>> job.proxydb.records[pid].psm calibrated\u001b[0m\n",
      "\u001b[1m\u001b[32mLMRt: job.proxydb.calib_psm() >>> job.proxydb.calibed created\u001b[0m\n",
      "\u001b[1m\u001b[32mLMRt: job.proxydb.forward_psm() >>> job.proxydb.records[pid].psm forwarded\u001b[0m\n",
      "\u001b[1m\u001b[36mLMRt: job.seasonalize_prior() >>> job.configs[\"prior_season\"] = [1, 2, 3, 4, 5, 6, 7, 8, 9, 10, 11, 12]\u001b[0m\n",
      "\u001b[1m\u001b[30mLMRt: job.seasonalize_prior() >>> seasonalized prior w/ season [1, 2, 3, 4, 5, 6, 7, 8, 9, 10, 11, 12]\u001b[0m\n",
      "Dataset Overview\n",
      "-----------------------\n",
      "\n",
      "     Name:  tas\n",
      "   Source:  /Users/fzhu/Github/LMRt/docsrc/tutorial/testcases/PAGES2k_CCSM4_GISTEMP/data/prior/b.e11.BLMTRC5CN.f19_g16.001.cam.h0.TREFHT.085001-184912.nc\n",
      "    Shape:  time:1001, lat:96, lon:144\n",
      "\u001b[1m\u001b[32mLMRt: job.seasonalize_ds_for_psm() >>> job.prior updated\u001b[0m\n",
      "\u001b[1m\u001b[30mLMRt: job.regrid_prior() >>> regridded prior\u001b[0m\n",
      "Dataset Overview\n",
      "-----------------------\n",
      "\n",
      "     Name:  tas\n",
      "   Source:  /Users/fzhu/Github/LMRt/docsrc/tutorial/testcases/PAGES2k_CCSM4_GISTEMP/data/prior/b.e11.BLMTRC5CN.f19_g16.001.cam.h0.TREFHT.085001-184912.nc\n",
      "    Shape:  time:1001, lat:42, lon:63\n",
      "\u001b[1m\u001b[32mLMRt: job.regrid_prior() >>> job.prior updated\u001b[0m\n",
      "\u001b[1m\u001b[36mLMRt: job.prepare() >>> Prepration data saved to: /Users/fzhu/Github/LMRt/docsrc/tutorial/testcases/PAGES2k_CCSM4_GISTEMP/recon_top/job.pkl\u001b[0m\n",
      "\u001b[1m\u001b[36mLMRt: job.prepare() >>> job.configs[\"precalc\"][\"prep_savepath\"] = /Users/fzhu/Github/LMRt/docsrc/tutorial/testcases/PAGES2k_CCSM4_GISTEMP/recon_top/job.pkl\u001b[0m\n"
     ]
    },
    {
     "name": "stderr",
     "output_type": "stream",
     "text": [
      "KF updating:   3%|▎         | 56/2001 [00:00<00:03, 552.02it/s]"
     ]
    },
    {
     "name": "stdout",
     "output_type": "stream",
     "text": [
      "\u001b[1m\u001b[36mLMRt: job.save_job() >>> Prepration data saved to: /Users/fzhu/Github/LMRt/docsrc/tutorial/testcases/PAGES2k_CCSM4_GISTEMP/recon_top/job.pkl\u001b[0m\n",
      "\u001b[1m\u001b[36mLMRt: job.save_job() >>> job.configs[\"precalc\"][\"prep_savepath\"] = /Users/fzhu/Github/LMRt/docsrc/tutorial/testcases/PAGES2k_CCSM4_GISTEMP/recon_top/job.pkl\u001b[0m\n",
      "\u001b[1m\u001b[36mLMRt: job.run() >>> job.configs[\"recon_seeds\"] = [0]\u001b[0m\n",
      "\u001b[1m\u001b[36mLMRt: job.run() >>> job.configs[\"recon_vars\"] = tas\u001b[0m\n",
      "\u001b[1m\u001b[36mLMRt: job.run() >>> job.configs[\"recon_nens\"] = 100\u001b[0m\n",
      "\u001b[1m\u001b[36mLMRt: job.run() >>> job.configs[\"proxy_frac\"] = 0.75\u001b[0m\n",
      "\u001b[1m\u001b[36mLMRt: job.run() >>> job.configs[\"recon_period\"] = [0, 2000]\u001b[0m\n",
      "\u001b[1m\u001b[36mLMRt: job.run() >>> job.configs[\"recon_timescale\"] = 1\u001b[0m\n",
      "\u001b[1m\u001b[36mLMRt: job.run() >>> job.configs[\"recon_loc_rad\"] = 25000\u001b[0m\n",
      "\u001b[1m\u001b[36mLMRt: job.run() >>> job.configs[\"save_settings\"] = {'compress_dict': {'zlib': True, 'least_significant_digit': 1}, 'output_geo_mean': False, 'target_lats': [], 'target_lons': [], 'output_full_ens': False, 'dtype': 32}\u001b[0m\n",
      "\u001b[1m\u001b[36mLMRt: job.run() >>> job.configs saved to: /Users/fzhu/Github/LMRt/docsrc/tutorial/testcases/PAGES2k_CCSM4_GISTEMP/recon_top/job_configs.yml\u001b[0m\n",
      "\u001b[1m\u001b[36mLMRt: job.run() >>> seed: 0 | max: 0\u001b[0m\n",
      "\u001b[1m\u001b[36mLMRt: job.run() >>> randomized indices for prior and proxies saved to: /Users/fzhu/Github/LMRt/docsrc/tutorial/testcases/PAGES2k_CCSM4_GISTEMP/recon_top/job_r00_idx.pkl\u001b[0m\n",
      "Proxy Database Overview\n",
      "-----------------------\n",
      "     Source:        /Users/fzhu/Github/LMRt/docsrc/tutorial/testcases/PAGES2k_CCSM4_GISTEMP/data/proxy/pages2k_dataset.pkl\n",
      "       Size:        70\n",
      "Proxy types:        {'coral.calc': 6, 'coral.SrCa': 19, 'coral.d18O': 45}\n"
     ]
    },
    {
     "name": "stderr",
     "output_type": "stream",
     "text": [
      "KF updating: 100%|██████████| 2001/2001 [01:08<00:00, 29.36it/s] \n"
     ]
    },
    {
     "name": "stdout",
     "output_type": "stream",
     "text": [
      "\u001b[1m\u001b[36mLMRt: job.save_recon() >>> Reconstructed fields saved to: /Users/fzhu/Github/LMRt/docsrc/tutorial/testcases/PAGES2k_CCSM4_GISTEMP/recon_top/job_r00_recon.nc\u001b[0m\n",
      "\u001b[1m\u001b[36mLMRt: job.run() >>> DONE!\u001b[0m\n"
     ]
    }
   ],
   "source": [
    "LMRt.ReconJob().run_cfg(\n",
    "    cfg_path='./testcases/PAGES2k_CCSM4_GISTEMP/configs.yml',\n",
    "    job_dirpath='./testcases/PAGES2k_CCSM4_GISTEMP/recon_top',\n",
    "    recon_seeds=np.arange(1),\n",
    "    verbose=True,\n",
    ")"
   ]
  },
  {
   "cell_type": "markdown",
   "metadata": {},
   "source": [
    "Once done, we will get the struture below in the \"recon_top\" directory:\n",
    "```\n",
    ".\n",
    "├── calibed_psm.pkl\n",
    "├── job_configs.yml\n",
    "├── job_r00_idx.pkl\n",
    "├── job_r00_recon.nc\n",
    "├── job.pkl\n",
    "├── obs_loc.pkl\n",
    "├── prior_loc.pkl\n",
    "├── seasonalized_obs.pkl\n",
    "└── seasonalized_prior.pkl\n",
    "```\n",
    "\n",
    "For the visualization of the results, please move on to the tutorial regarding visualizations."
   ]
  }
 ],
 "metadata": {
  "kernelspec": {
   "display_name": "Python 3",
   "language": "python",
   "name": "python3"
  },
  "language_info": {
   "codemirror_mode": {
    "name": "ipython",
    "version": 3
   },
   "file_extension": ".py",
   "mimetype": "text/x-python",
   "name": "python",
   "nbconvert_exporter": "python",
   "pygments_lexer": "ipython3",
   "version": "3.8.8"
  }
 },
 "nbformat": 4,
 "nbformat_minor": 4
}
